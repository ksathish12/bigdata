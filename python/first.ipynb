""" Ctrl+Shift+A for this comment  """
# Ctrl + / for this comment

# # a=5
# # b=10
# # # # Swaping first method
# # # temp = b
# # # b = a
# # # a = temp
# # # print("a=",a)
# # # print("b=",b)

# # # #Second method
# # # a=a+b
# # # b=a-b
# # # a=a-b
# # # print("a=",a)
# # # print("b=",b)

# # # Third method
# # b,a=a,b
# # print("a=",a)
# # print("b=",b)

# x=["Nielit","Chennai"]
# y=x
# print("x=",x)
# print("y=",y)
# x.append("India")
# print("x=",x)
# print("y=",y)

""" To check the datatype """
# A=input("Enter some input ")
# print(type(A))
x=5
y="sathish"
z=5.0

print(type(x),type(y),type(z))

