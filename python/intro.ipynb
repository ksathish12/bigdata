{
 "nbformat": 4,
 "nbformat_minor": 2,
 "metadata": {
  "language_info": {
   "name": "python",
   "codemirror_mode": {
    "name": "ipython",
    "version": 3
   },
   "version": "3.7.3-final"
  },
  "orig_nbformat": 2,
  "file_extension": ".py",
  "mimetype": "text/x-python",
  "name": "python",
  "npconvert_exporter": "python",
  "pygments_lexer": "ipython3",
  "version": 3,
  "kernelspec": {
   "name": "python3",
   "display_name": "Python 3"
  }
 },
 "cells": [
  {
   "cell_type": "markdown",
   "metadata": {},
   "source": [
    "Variables:\n",
    "Mutiples variables can be assigned in same line\n"
   ]
  },
  {
   "cell_type": "code",
   "execution_count": 32,
   "metadata": {},
   "outputs": [
    {
     "name": "stdout",
     "output_type": "stream",
     "text": "CHENNAI 5 NIELIT\n"
    }
   ],
   "source": [
    "x,y,z=\"NIELIT\",5,\"CHENNAI\"\n",
    "print(z,y,x)"
   ]
  },
  {
   "cell_type": "markdown",
   "metadata": {},
   "source": [
    "In python Variables acts as a pointer.\n",
    "When variable is assigned, say x, in python object of the variable is created with the defined type.\n",
    "In the below code, \"India\" is appended in the list \"x\". It will reflect in the \"y\" list also since the variable y is pointing to the variable x. Any change in x will reflect in y also. It is applicable in collections like list."
   ]
  },
  {
   "cell_type": "code",
   "execution_count": 52,
   "metadata": {},
   "outputs": [
    {
     "name": "stdout",
     "output_type": "stream",
     "text": "x=  ['NIELIT', 'Chennai', 'India']\ny=  ['NIELIT', 'Chennai', 'India']\n"
    }
   ],
   "source": [
    "x=[\"NIELIT\",\"Chennai\"]\n",
    "y=x\n",
    "x.append(\"India\")\n",
    "print(\"x= \",x)\n",
    "print(\"y= \",y)"
   ]
  },
  {
   "cell_type": "markdown",
   "metadata": {},
   "source": [
    "To check data type in python, type() is used. See the below code. Any thing mentioned between \" \" is treated as string"
   ]
  },
  {
   "cell_type": "code",
   "execution_count": 53,
   "metadata": {},
   "outputs": [
    {
     "name": "stdout",
     "output_type": "stream",
     "text": "<class 'int'> <class 'str'> <class 'float'> <class 'complex'>\n"
    }
   ],
   "source": [
    "x=5\n",
    "y=\"Nielit\"\n",
    "z=10.0\n",
    "a=1j\n",
    "print(type(x),type(y),type(z),type(a))"
   ]
  },
  {
   "cell_type": "markdown",
   "metadata": {},
   "source": [
    "One data type can be converted in to another by below method"
   ]
  },
  {
   "cell_type": "code",
   "execution_count": 54,
   "metadata": {},
   "outputs": [
    {
     "name": "stdout",
     "output_type": "stream",
     "text": "y = 10 <class 'int'>\n"
    }
   ],
   "source": [
    "x=10.5\n",
    "type(x)\n",
    "y=int(x)\n",
    "print(\"y =\",y,type(y))"
   ]
  },
  {
   "cell_type": "markdown",
   "metadata": {},
   "source": [
    "String data type"
   ]
  },
  {
   "cell_type": "code",
   "execution_count": 55,
   "metadata": {},
   "outputs": [
    {
     "name": "stdout",
     "output_type": "stream",
     "text": "I am in Chennai @ Tamilnadu\n"
    }
   ],
   "source": [
    "x=\"I am in Chennai\"\n",
    "y=\" @ Tamilnadu\"\n",
    "z=x+y\n",
    "print(z)"
   ]
  },
  {
   "cell_type": "markdown",
   "metadata": {},
   "source": [
    "String Slicing:\n",
    "In the range [0:n], it will take 0 to n-1. In negative the last character is (-1)."
   ]
  },
  {
   "cell_type": "code",
   "execution_count": 56,
   "metadata": {},
   "outputs": [
    {
     "name": "stdout",
     "output_type": "stream",
     "text": "I am in Chennai @ Tamilnadu\nI am \nTamil\nI\nu\nT\n"
    }
   ],
   "source": [
    "print(z)\n",
    "print(z[0:5])\n",
    "print(z[-9:-4])\n",
    "print(z[0])\n",
    "print(z[-1])\n",
    "print(z[-9])"
   ]
  },
  {
   "cell_type": "markdown",
   "metadata": {},
   "source": [
    "String Manipulation"
   ]
  },
  {
   "cell_type": "code",
   "execution_count": 64,
   "metadata": {},
   "outputs": [
    {
     "name": "stdout",
     "output_type": "stream",
     "text": "21\n"
    }
   ],
   "source": [
    "x=input(\"Enter the number \")\n",
    "sum=0\n",
    "for i in str(x):\n",
    "    sum=sum+int(i)\n",
    "print(sum)"
   ]
  },
  {
   "cell_type": "code",
   "execution_count": 68,
   "metadata": {},
   "outputs": [
    {
     "name": "stdout",
     "output_type": "stream",
     "text": "The minimum number is  6\n"
    }
   ],
   "source": [
    "x=int(input(\"Enter the number \"))\n",
    "y=int(input(\"Enter the number \"))\n",
    "z=int(input(\"Enter the number \"))\n",
    "\n",
    "\n",
    "if x<y and x<z:\n",
    "    print(\"The minimum number is \",x)\n",
    "if y<x and y<z:\n",
    "    print(\"The minimum number is \",y)\n",
    "else:\n",
    "    print(\"The minimum number is \",z)\n",
    "\n"
   ]
  },
  {
   "cell_type": "code",
   "execution_count": 71,
   "metadata": {},
   "outputs": [
    {
     "name": "stdout",
     "output_type": "stream",
     "text": "minimum value is  1\n"
    }
   ],
   "source": [
    "min=int(input(\"enter a number: \"))\n",
    "for _ in range(1,3):\n",
    "    x=int(input(\"Enter a number\"))\n",
    "    if x<min:\n",
    "        min=x\n",
    "print(\"minimum value is \",min)\n"
   ]
  },
  {
   "cell_type": "code",
   "execution_count": 100,
   "metadata": {},
   "outputs": [
    {
     "name": "stdout",
     "output_type": "stream",
     "text": "[9, 8, 5] <class 'list'>\n[5, 8, 9]\nThe minimum number is  5\n"
    }
   ],
   "source": [
    "x=int(input(\"Enter the number \"))\n",
    "y=int(input(\"Enter the number \"))\n",
    "z=int(input(\"Enter the number \"))\n",
    "a=[x,y,z]\n",
    "print(a,type(a))\n",
    "a.sort()\n",
    "# b=a.copy()  \n",
    "# print(b) \n",
    "print(a)\n",
    "b=a[0]\n",
    "print(\"The minimum number is \",b)\n"
   ]
  },
  {
   "cell_type": "code",
   "execution_count": 102,
   "metadata": {},
   "outputs": [
    {
     "name": "stdout",
     "output_type": "stream",
     "text": "The minimum number is  5\nThe minimum number is  9\n"
    }
   ],
   "source": [
    "list=[]\n",
    "for i in range(0,3):\n",
    "    list.append(int(input(\"Enter a number: \")))\n",
    "list.sort()\n",
    "print(\"The minimum number is \",list[0])\n",
    "print(\"The minimum number is \",list[-1])\n",
    "\n"
   ]
  },
  {
   "cell_type": "markdown",
   "metadata": {},
   "source": [
    "Functions:\n"
   ]
  },
  {
   "cell_type": "code",
   "execution_count": 103,
   "metadata": {},
   "outputs": [
    {
     "name": "stdout",
     "output_type": "stream",
     "text": "10\n"
    }
   ],
   "source": [
    "def greater(x,y):\n",
    "    if x>y:\n",
    "        print(x)\n",
    "    else:\n",
    "        print(y)\n",
    "\n",
    "greater(5,10)"
   ]
  },
  {
   "cell_type": "markdown",
   "metadata": {},
   "source": [
    "function with return type"
   ]
  },
  {
   "cell_type": "code",
   "execution_count": 104,
   "metadata": {},
   "outputs": [
    {
     "name": "stdout",
     "output_type": "stream",
     "text": "5\n"
    }
   ],
   "source": [
    "def greaterReturn(x,y):\n",
    "    if(x,y):\n",
    "        return x\n",
    "    else:\n",
    "        return y\n",
    "\n",
    "test=greaterReturn(5,10)\n",
    "print(test)"
   ]
  },
  {
   "cell_type": "markdown",
   "metadata": {},
   "source": [
    "Lambda function: the function with out name (anonymous function)"
   ]
  },
  {
   "cell_type": "code",
   "execution_count": 106,
   "metadata": {},
   "outputs": [
    {
     "name": "stdout",
     "output_type": "stream",
     "text": "6\n"
    }
   ],
   "source": [
    "def x(m):\n",
    "    m=m+1\n",
    "    return m\n",
    "#x(5)\n",
    "\n",
    "x=lambda m : m+1\n",
    "print(x(5))"
   ]
  },
  {
   "cell_type": "markdown",
   "metadata": {},
   "source": [
    "Try Except Finally"
   ]
  },
  {
   "cell_type": "code",
   "execution_count": 109,
   "metadata": {},
   "outputs": [
    {
     "name": "stdout",
     "output_type": "stream",
     "text": "20.5\nTry function executed\nThank you\n"
    }
   ],
   "source": [
    "x=int(input(\"Enter first number: \"))\n",
    "y=int(input(\"Enter second number: \"))\n",
    "try:\n",
    "    print(x/y)\n",
    "except:\n",
    "    print(\"Error in the given value\")\n",
    "finally:\n",
    "    print(\"Try function executed\")\n",
    "print(\"Thank you\")"
   ]
  },
  {
   "cell_type": "markdown",
   "metadata": {},
   "source": [
    "class"
   ]
  },
  {
   "cell_type": "code",
   "execution_count": 110,
   "metadata": {},
   "outputs": [
    {
     "name": "stdout",
     "output_type": "stream",
     "text": "9\n"
    }
   ],
   "source": [
    "class sathish:\n",
    "    i=9\n",
    "\n",
    "cpy=sathish()\n",
    "print(cpy.i)"
   ]
  },
  {
   "cell_type": "code",
   "execution_count": 12,
   "metadata": {},
   "outputs": [
    {
     "name": "stdout",
     "output_type": "stream",
     "text": "The golden ratio number is  0.6180339887498949\n"
    }
   ],
   "source": [
    "\"\"\" Fibonacci and golden ratio \"\"\"\n",
    "terms=int(input(\"Enter the number\"))\n",
    "a=0.0\n",
    "b=1.0\n",
    "aa=0.0\n",
    "bb=1.0\n",
    "for i in range(terms):    \n",
    "    #print(a)\n",
    "    x=a+b\n",
    "    d=aa/bb\n",
    "    term=d\n",
    "    #print(a,term)\n",
    "    a=b\n",
    "    b=x\n",
    "    aa=bb\n",
    "    bb=x\n",
    "print(\"The golden ratio number is \",term)\n",
    "\n",
    "\n",
    "\n",
    "\n"
   ]
  },
  {
   "cell_type": "code",
   "execution_count": 21,
   "metadata": {},
   "outputs": [
    {
     "name": "stdout",
     "output_type": "stream",
     "text": "The number 1 is not a prime number\nThe number 2 is not a prime number\nThe number 3 is not a prime number\nThe number 4 is not a prime number\nThe number 5 is not a prime number\nThe number 6 is not a prime number\nThe number 7 is not a prime number\nThe number 8 is not a prime number\nThe number 9 is not a prime number\n"
    }
   ],
   "source": [
    "\"\"\" Finding prime number \"\"\"\n",
    "num=int(input(\"Enter the number of terms\"))\n",
    "for i in range(1,num):\n",
    "    #print(i)\n",
    "    if i%(i+1) != 0:\n",
    "        print (\"The number\",i, \"is not a prime number\")\n",
    "    else:\n",
    "        print (\"The number\",i, \"is a prime number\")"
   ]
  },
  {
   "cell_type": "code",
   "execution_count": null,
   "metadata": {},
   "outputs": [],
   "source": []
  }
 ]
}